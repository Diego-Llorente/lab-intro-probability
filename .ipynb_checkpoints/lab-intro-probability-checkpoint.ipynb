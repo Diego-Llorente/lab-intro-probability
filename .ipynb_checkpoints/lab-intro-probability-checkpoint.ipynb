{
 "cells": [
  {
   "cell_type": "markdown",
   "metadata": {},
   "source": [
    "# Lab | Intro to Probability"
   ]
  },
  {
   "cell_type": "markdown",
   "metadata": {},
   "source": [
    "**Objective**\n",
    "\n",
    "Welcome to this Intro to Probability lab, where we explore decision-making scenarios through the lens of probability and strategic analysis. In the business world, making informed decisions is crucial, especially when faced with uncertainties. This lab focuses on scenarios where probabilistic outcomes play a significant role in shaping strategies and outcomes. Students will engage in exercises that require assessing and choosing optimal paths based on data-driven insights. The goal is to enhance your skills by applying probability concepts to solve real-world problems."
   ]
  },
  {
   "cell_type": "markdown",
   "metadata": {},
   "source": [
    "**Challenge 1**"
   ]
  },
  {
   "cell_type": "markdown",
   "metadata": {},
   "source": [
    "#### Ironhack Airlines \n",
    "\n",
    "Often Airlines sell more tickets than they have seats available, this is called overbooking. Consider the following:\n",
    "- A plane has 450 seats. \n",
    "- Based on historical data we conclude that each individual passenger has a 3% chance of missing it's flight. \n",
    "\n",
    "If the Ironhack Airlines routinely sells 460 tickets, what is the chance that they have a seats for all passenger?"
   ]
  },
  {
   "cell_type": "code",
   "execution_count": 4,
   "metadata": {},
   "outputs": [
    {
     "name": "stdout",
     "output_type": "stream",
     "text": [
      "There's a 88.45% probability that all passengers will have a seat.\n"
     ]
    }
   ],
   "source": [
    "#code here\n",
    "from scipy.stats import binom\n",
    "\n",
    "#n is the number of trials (sold tickets)\n",
    "n = 460\n",
    "\n",
    "#p is the probability of a passenger missing a flight\n",
    "p = 0.03\n",
    "\n",
    "#this is the probability of 9 or less passengers missing the flight\n",
    "cumulative_prob = binom.cdf(9, n, p)\n",
    "\n",
    "#This represents the probability that 10 or more passenger misses the flight.\n",
    "prob_seat_for_all = 1 - cumulative_prob\n",
    "\n",
    "print(f\"There's a {round(prob_seat_for_all *100, 2)}% probability that all passengers will have a seat.\")"
   ]
  },
  {
   "cell_type": "markdown",
   "metadata": {},
   "source": [
    "**Challenge 2**"
   ]
  },
  {
   "cell_type": "markdown",
   "metadata": {},
   "source": [
    "#### Ironhack Call Center "
   ]
  },
  {
   "cell_type": "markdown",
   "metadata": {},
   "source": [
    "Suppose a customer service representative at a call center is handling customer complaints. Consider the following:\n",
    "- The probability of successfully resolving a customer complaint on the first attempt is 0.3. \n",
    "\n",
    "\n",
    "What is the probability that the representative needs to make at least three attempts before successfully resolving a customer complaint?"
   ]
  },
  {
   "cell_type": "code",
   "execution_count": 39,
   "metadata": {},
   "outputs": [
    {
     "name": "stdout",
     "output_type": "stream",
     "text": [
      "The probability for the representative to need at least 3 attempts before sesolving a complaint is: 49.0%\n"
     ]
    }
   ],
   "source": [
    "#code here\n",
    "p = 0.3\n",
    "\n",
    "geom_dist = geom(p)\n",
    "\n",
    "resolve_prob = 1 - geom_dist.cdf(2)\n",
    "\n",
    "resolve_prob\n",
    "\n",
    "print(f\"The probability for the representative to need at least 3 attempts before sesolving a complaint is: {round(resolve_prob * 100, 2)}%\")"
   ]
  },
  {
   "cell_type": "markdown",
   "metadata": {},
   "source": [
    "**Challenge 3**"
   ]
  },
  {
   "cell_type": "markdown",
   "metadata": {},
   "source": [
    "#### Ironhack Website"
   ]
  },
  {
   "cell_type": "markdown",
   "metadata": {},
   "source": [
    "Consider a scenario related to Ironhack website traffic. Where:\n",
    "- our website takes on average 500 visits per hour.\n",
    "- the website's server is designed to handle up to 550 vists per hour.\n",
    "\n",
    "\n",
    "What is the probability of the website server being overwhelmed?"
   ]
  },
  {
   "cell_type": "code",
   "execution_count": 8,
   "metadata": {
    "scrolled": true
   },
   "outputs": [
    {
     "name": "stdout",
     "output_type": "stream",
     "text": [
      "The probability of being ovrewhelmed(more than 550 visits per hour) is: 1.29%\n"
     ]
    }
   ],
   "source": [
    "#code here\n",
    "#time frame --> poisson\n",
    "from scipy.stats import poisson\n",
    "\n",
    "#expectatio of events occuring in an hour\n",
    "mu = 500\n",
    "poisson_dist = poisson(mu)\n",
    "\n",
    "#Probability that there are more than 550 visits per hour\n",
    "overwhelmed_prob = 1 - poisson_dist.cdf(550)\n",
    "\n",
    "print(f\"The probability of being ovrewhelmed (more than 550 visits per hour) is: {round(overwhelmed_prob * 100, 2)}%\")"
   ]
  },
  {
   "cell_type": "markdown",
   "metadata": {},
   "source": [
    "What is the probability of being overwhelmed at some point during a day? (consider 24hours)"
   ]
  },
  {
   "cell_type": "code",
   "execution_count": 54,
   "metadata": {},
   "outputs": [
    {
     "name": "stdout",
     "output_type": "stream",
     "text": [
      "The probability of being overwhelmed at least 1 time in 24h is: 26.77%\n"
     ]
    }
   ],
   "source": [
    "#code here\n",
    "overwhelmed_prob = 1 - poisson_dist.cdf(550)\n",
    "\n",
    "n = 24\n",
    "\n",
    "binom_dist = binom(n, overwhelmed_prob)\n",
    "\n",
    "prob_over_24 = 1 - binom_dist.cdf(0)\n",
    "\n",
    "print(f\"The probability of being overwhelmed at least 1 time in 24h is: {round(prob_over_24 * 100, 2)}%\")"
   ]
  },
  {
   "cell_type": "markdown",
   "metadata": {},
   "source": [
    "**Challenge 4**"
   ]
  },
  {
   "cell_type": "markdown",
   "metadata": {},
   "source": [
    "#### Ironhack Helpdesk"
   ]
  },
  {
   "cell_type": "markdown",
   "metadata": {},
   "source": [
    "Consider a scenario related to the time between arrivals of customers at a service desk.\n",
    "\n",
    "On average, a customers arrives every 10minutes.\n",
    "\n",
    "What is the probability that the next customer will arrive within the next 5 minutes?"
   ]
  },
  {
   "cell_type": "code",
   "execution_count": 25,
   "metadata": {},
   "outputs": [
    {
     "name": "stdout",
     "output_type": "stream",
     "text": [
      "The probability that the next customer will arrive within the next 5 minutes is 39.35%\n"
     ]
    }
   ],
   "source": [
    "#Exponential distribution\n",
    "from scipy.stats import expon\n",
    "\n",
    "mean_time = 10\n",
    "\n",
    "expon_dist = 1/mean_time\n",
    "\n",
    "expon_dist = expon(scale = 1/expon_dist)\n",
    "\n",
    "print(f\"The probability that the next customer will arrive within the next 5 minutes is {round(expon_dist.cdf(5)*100, 2)}%\")"
   ]
  },
  {
   "cell_type": "markdown",
   "metadata": {},
   "source": [
    "If there is no customer for 15minutes, employees can that a 5minutes break.\n",
    "\n",
    "What is the probability an employee taking a break?"
   ]
  },
  {
   "cell_type": "code",
   "execution_count": 31,
   "metadata": {},
   "outputs": [
    {
     "name": "stdout",
     "output_type": "stream",
     "text": [
      "The probability of the employee taking a break is 22.31%\n"
     ]
    }
   ],
   "source": [
    "mean_time = 10\n",
    "\n",
    "expon_dist = 1/mean_time\n",
    "\n",
    "expon_dist = expon(scale = 1/expon_dist)\n",
    "\n",
    "break_prob = 1 - expon_dist.cdf(15)\n",
    "\n",
    "break_prob\n",
    "print(f\"The probability of the employee taking a break is {round(break_prob * 100, 2)}%\")"
   ]
  },
  {
   "cell_type": "markdown",
   "metadata": {},
   "source": [
    "**Challenge 5**"
   ]
  },
  {
   "cell_type": "markdown",
   "metadata": {},
   "source": [
    "The weights of a certain species of birds follow a normal distribution with a mean weight of 150 grams and a standard deviation of 10 grams. \n",
    "\n",
    "- If we randomly select a bird, what is the probability that its weight is between 140 and 160 grams?"
   ]
  },
  {
   "cell_type": "code",
   "execution_count": 26,
   "metadata": {},
   "outputs": [
    {
     "name": "stdout",
     "output_type": "stream",
     "text": [
      "The probability that a random bird weights between 140 and 160 grams is: 81.76%\n"
     ]
    }
   ],
   "source": [
    "#code here\n",
    "#Normal (Gaussian distribution)\n",
    "from scipy.stats import norm\n",
    "\n",
    "mean = 150\n",
    "\n",
    "std = 7.5\n",
    "\n",
    "normal_dist = norm(loc = mean, scale = std)\n",
    "\n",
    "prob_weight = normal_dist.cdf(160) - normal_dist.cdf(140)\n",
    "\n",
    "print(f\"The probability that a random bird weights between 140 and 160 grams is: {round(prob_weight * 100, 2)}%\")"
   ]
  },
  {
   "cell_type": "markdown",
   "metadata": {},
   "source": [
    "**Challenge 6**"
   ]
  },
  {
   "cell_type": "markdown",
   "metadata": {},
   "source": [
    "If the lifetime (in hours) of a certain electronic component follows an exponential distribution with a mean lifetime of 50 hours, what is the probability that the component fails within the first 30 hours?"
   ]
  },
  {
   "cell_type": "code",
   "execution_count": 29,
   "metadata": {},
   "outputs": [
    {
     "name": "stdout",
     "output_type": "stream",
     "text": [
      "The probability taht the component fails within the first 30 hours is 45.12%\n"
     ]
    }
   ],
   "source": [
    "#code here\n",
    "\n",
    "mean_time = 50\n",
    "\n",
    "expon_dist = 1/mean_time\n",
    "\n",
    "expon_dist = expon(scale = 1/ expon_dist)\n",
    "\n",
    "fail_prob = expon_dist.cdf(30)\n",
    "\n",
    "print(f\"The probability taht the component fails within the first 30 hours is {round(fail_prob * 100, 2)}%\")"
   ]
  }
 ],
 "metadata": {
  "kernelspec": {
   "display_name": "Python 3 (ipykernel)",
   "language": "python",
   "name": "python3"
  },
  "language_info": {
   "codemirror_mode": {
    "name": "ipython",
    "version": 3
   },
   "file_extension": ".py",
   "mimetype": "text/x-python",
   "name": "python",
   "nbconvert_exporter": "python",
   "pygments_lexer": "ipython3",
   "version": "3.11.7"
  }
 },
 "nbformat": 4,
 "nbformat_minor": 2
}
